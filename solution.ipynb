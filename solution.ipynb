{
  "cells": [
    {
      "cell_type": "markdown",
      "metadata": {
        "id": "KCWwIIzk_W-V"
      },
      "source": [
        "# Generate a Model to Classify Sentiment of a Review Text\n",
        "\n",
        "\n"
      ]
    },
    {
      "cell_type": "markdown",
      "metadata": {
        "id": "ZLV_Dtl2_ks7"
      },
      "source": [
        "Congratulations! You're a movie director, and you just released a film you poured your soul (and money) into making. You are curious as to what people thought of your movie. Reviews are pouring in every day, hundreds upon hundreds. You want to read through them all, but you physically can't.\n",
        "\n",
        "On top of being a director, you are also a machine learning programmer, and you think it would be cool to make a model that can look at the text of any review and classify whether it is positive or negative, just by looking at the words. \n",
        "\n",
        "You find a giant dataset of IMDB reviews for a variety of movies, tagged for having `positive` (1) or `negative` (0) sentiments, depending on the rating. \n",
        "\n",
        "With this IMDB dataset, you decided to build and train an AI `Sentiment Analysis` model that can classify any review as positive or negative. That way, you can run the model on any review or comment that comes in for your movie and quickly tell if it is positive or negative without reading it yourself. \n",
        "\n",
        "(Note: This model is called a `Naive-Bayes Classifier`. This model can actually compute the sentiment for **any** text -- reviews, tweets, comments, etc!)\n",
        "\n",
        "(Another note: This is a difficult task! Do not be discouraged if you struggle, and don't be scared to ask for help.)"
      ]
    },
    {
      "cell_type": "markdown",
      "metadata": {
        "id": "Xzn9mL_b8RfA"
      },
      "source": [
        "## Import Libraries (Do not edit) \n",
        "\n",
        "Load python packages necessary for building the sentiment analysis model download the IMDB dataset. Do not edit this cell. "
      ]
    },
    {
      "cell_type": "code",
      "execution_count": null,
      "metadata": {
        "colab": {
          "base_uri": "https://localhost:8080/"
        },
        "id": "Gp8stAtk8I1D",
        "outputId": "85d6a37b-3207-4b49-c758-e743aee62c11"
      },
      "outputs": [],
      "source": [
        "import numpy as np\n",
        "import pandas as pd\n",
        "from google.colab import drive # file\n",
        "import string # tokenize\n",
        "import nltk\n",
        "from nltk.corpus import stopwords\n",
        "import matplotlib.pyplot as plt # confusion matrix\n",
        "import math\n",
        "from matplotlib import rc\n",
        "from sklearn.model_selection import train_test_split # model\n",
        "from sklearn.metrics import accuracy_score\n",
        "from sklearn.metrics import classification_report, confusion_matrix\n",
        "\n",
        "%matplotlib inline\n",
        "\n",
        "RANDOM_SEED = 42\n",
        "np.random.seed(RANDOM_SEED)\n",
        "\n",
        "# for testing later\n",
        "! gdown --id 1IViQp6-J-uZYOsZY4nw_XLE3y9QXhyIw\n",
        "import testing_aides as tester\n",
        "\n"
      ]
    },
    {
      "cell_type": "markdown",
      "metadata": {
        "id": "En0wrljAh3Xl"
      },
      "source": [
        "### What does your data look like? (Do Not Edit)"
      ]
    },
    {
      "cell_type": "code",
      "execution_count": null,
      "metadata": {
        "colab": {
          "base_uri": "https://localhost:8080/",
          "height": 0
        },
        "id": "yOnDiqRQh7et",
        "outputId": "0c89c0d8-0ee2-4f8d-f7ca-63d80b2469ea"
      },
      "outputs": [],
      "source": [
        "# get the data!\n",
        "! gdown --id 1vexo0MMtjPzSv5CONn5t8QH3IKvewedk\n",
        "reviewData = pd.read_csv(\"/content/labeledTrainData.tsv\", delimiter=\"\\t\")\n",
        "reviewData.head() # what does this file look like?"
      ]
    },
    {
      "cell_type": "markdown",
      "metadata": {
        "id": "uQhbxceMD49P"
      },
      "source": [
        "## Introduction\n",
        "\n",
        "In lecture, you learned how to compute the sentiment of a text using `multinomial Naive-Bayes`. Recall you need two different kinds of probability - `prior` and `posterior`. \n",
        "\n",
        "So, there are three parts to writing this code:\n",
        "\n",
        "1.   Calculating **prior probabilities** using the given reviews (the \"train data\") **(Part 1)**\n",
        "2.   Creating methods to calculate **posterior probabilities** of individual words in a review **(Part 2)**\n",
        "3.   Classifying each review in the \"test data\" as positive or negative based on the combined prior and posterior probabilities **(Part 3)**\n",
        "\n",
        "The goal is to write code that classifies each review in a **list of reviews** (`reviews_test`) as negative (0) or positive (1) based on probabilities. The final result should be a **list of sentiments** (`classified_sentiments`), which has one sentiment value for each test review.\n",
        "- Ex. [0, 1, 1, 0, 1...] \n"
      ]
    },
    {
      "cell_type": "markdown",
      "metadata": {
        "id": "Sgv-kHhxYk0B"
      },
      "source": [
        "### Variables to Know\n",
        "These are provided variables that you will have to use to develop your code! Know them well.\n",
        "*   `sentimentClasses` is a list of the sentiments, `0` (which represents negative) and `1` (which represents positive).\n",
        "  * `sentimentClasses = [0,1]`\n",
        "  * We will later *classify* each test review into the positive or negative class.\n",
        "  \n",
        "*   `reviews` is a list of all the **review texts**. \n",
        "  * This is the *review* column of your data table.\n",
        "  * Ex. `[\"This was a great movie\", \"Wow! What a flop!\", ...]`\n",
        "*   `sentiment` is a list of the **sentiments** (0 or 1), corresponding to each review from `reviews`. This is the *sentiment* column of the data file.\n",
        "  *  This is the *sentiment* column of your data table\n",
        "  * Ex. `[1, 0, 0, 1, ...]`\n",
        "\n",
        "`reviews[0]` corresponds to `sentiments[0]`, and so on.\n",
        "* Ex. `\"This was a great movie\"` corresponds to `1` (positive)\n",
        "\n",
        "**Note:** The cell below defines these variables for you. You do not need to define them yourself.\n"
      ]
    },
    {
      "cell_type": "code",
      "execution_count": null,
      "metadata": {
        "colab": {
          "base_uri": "https://localhost:8080/"
        },
        "id": "yyFzSY6m-jP_",
        "outputId": "50d18962-dd8a-4bde-8a1f-270422406ae8"
      },
      "outputs": [],
      "source": [
        "# Provided variables (DO NOT EDIT!)\n",
        "\n",
        "# reviews is the list of reviews\n",
        "reviews = reviewData['review'].to_numpy()   # from 'review' column\n",
        "print(reviews)\n",
        "print(type(reviews))\n",
        "print(len(reviews))\n",
        "# sentiments is the list of corresponding sentiments\n",
        "sentiments = reviewData['sentiment'].values   # from 'sentiment' column\n",
        "print(sentiments)\n",
        "# split reviews and sentiments for training and testing\n",
        "reviews_train, reviews_test, sentiments_train, sentiments_test = train_test_split(reviews, sentiments, test_size=0.99, random_state=RANDOM_SEED)\n",
        "\n",
        "# store the two unique sentiments, 0 (negative) and 1 (positive) in a sentimentClasses\n",
        "sentimentClasses = np.unique(sentiments) # [0, 1]"
      ]
    },
    {
      "cell_type": "markdown",
      "metadata": {
        "id": "eJB3k_hF_kpw"
      },
      "source": [
        "\n",
        "\n",
        "---\n",
        "\n",
        "\n",
        "## Part 1: Calculate Prior Probabilities\n"
      ]
    },
    {
      "cell_type": "markdown",
      "metadata": {
        "id": "tdqp5z6jSzJi"
      },
      "source": [
        "\n",
        "### Group Reviews by Sentiment Class\n",
        "First, it's useful to group all the reviews in the training dataset by sentiment. \n",
        "\n",
        "Say you do this by creating one list of all the positive reviews, and one list of all the negative reviews. We can store these lists in a **dictionary**. \n",
        "\n",
        "We will use dictionaries in this lab to organize our data into our two sentiment classes, 0 and 1.\n",
        "\n",
        "This is what the dictionary `ReviewsByClass` should look like:\n",
        "- Keys: the sentiment classes, 0 and 1\n",
        "- Values: lists of all the negative reviews, and all the positive reviews (respectively)"
      ]
    },
    {
      "cell_type": "markdown",
      "metadata": {
        "id": "3FF4OQKOYLw0"
      },
      "source": [
        "*Example*: Hypothetically, say your reviews list was: \n",
        "  > `[\"Good acting.\", \"I love this film!\", \"Truly horrible. What a flop.\"]`\n",
        "\n",
        "...and your sentiments list was:\n",
        "  > `[1, 1, 0]`\n",
        "\n",
        "`ReviewsByClass` should look something like:\n",
        "  > `{0: [\"Truly horrible. What a flop.\"], 1: [\"Good acting.\", \"I love this film!\"]}`\n",
        "\n",
        "  - Dictionaries have the format `{key: value, key: value, ...}`"
      ]
    },
    {
      "cell_type": "code",
      "execution_count": null,
      "metadata": {
        "colab": {
          "base_uri": "https://localhost:8080/"
        },
        "id": "NkU8xyNhV0nN",
        "outputId": "44712ded-dc53-4129-b101-94fadec22bf2"
      },
      "outputs": [],
      "source": [
        "# TO DO: fill in ReviewsByClass\n",
        "# ReviewsByClass should have two keys, 0 and 1 (one for each sentiment class).\n",
        "# the value for 0 should be a list of all the negative reviews\n",
        "# the value for 1 should be a list of all the positive reviews\n",
        "\n",
        "# first step: go through all the reviews. for each review, sort them into either\n",
        "# negative or positive list based on what its corresponding sentiment is.\n",
        "\n",
        "ReviewsByClass = {} \n",
        "\n",
        "for c in sentimentClasses: # for each class\n",
        "  ReviewList = [] # list of all reviews under class\n",
        "  for i in range(len(reviews)): # go through all reviews\n",
        "    if (sentiments[i] == c): # if classes match\n",
        "      ReviewList.append(reviews[i]) # append that review to the list\n",
        "  ReviewsByClass[c] = ReviewList # list is the value, class is key"
      ]
    },
    {
      "cell_type": "markdown",
      "metadata": {
        "id": "Ni56G76pSV-S"
      },
      "source": [
        "### Calculate the Prior Probabilities\n",
        "Complete a `dictionary` called `PriorProbabilityByClass`.\n",
        "- Keys: the sentiment classes, 0 and 1\n",
        "- Values: the prior probabilities\n",
        "  - prior probability: the probability that **any** review is in a particular sentiment class\n",
        "\n",
        "**Note:** **Prior probability of a class = log((# of items in that class) / (total # of items))**"
      ]
    },
    {
      "cell_type": "markdown",
      "metadata": {
        "id": "rOTAfIcZjJe0"
      },
      "source": [
        "*Example*: Hypothetically, say your reviews list was: \n",
        "  > `[\"Good acting.\", \"I love this film!\", \"Truly horrible. What a flop.\"]`\n",
        "\n",
        "...and your sentiments list was:\n",
        "  > `[1, 1, 0]`\n",
        "\n",
        "There is 1 negative review, and 2 positive reviews. In total, there are 3 reviews. \n",
        "\n",
        "Therefore, the negative prior probability is `1/3`, and the positive prior  probability is `2/3`.\n",
        "\n",
        "Your final dictionary, `PriorProbabilityByClass`, for this example dataset should look something like:\n",
        "  > `{0: 0.33, 1: 0.67}`\n"
      ]
    },
    {
      "cell_type": "code",
      "execution_count": 5,
      "metadata": {
        "colab": {
          "base_uri": "https://localhost:8080/"
        },
        "id": "rMukh4GuI3kE",
        "outputId": "5fb457dd-dd7a-4a92-8617-93687f8527e4"
      },
      "outputs": [
        {
          "name": "stdout",
          "output_type": "stream",
          "text": [
            "{0: -0.6931471805599453, 1: -0.6931471805599453}\n"
          ]
        }
      ],
      "source": [
        "# TO DO: fill in PriorProbabilityByClass\n",
        "# PriorProbabilityByClass also has two keys, one for each sentiment class.\n",
        "# the values for each key should be the prior probability for each corresponding class.\n",
        "# ^ a decimal value -> log(# of items in that class / total # of items)\n",
        "\n",
        "# Hint: can you use ReviewsByClass for this?\n",
        "\n",
        "PriorProbabilityByClass = {}\n",
        "\n",
        "totalRevCount = len(reviews) # total # of reviews\n",
        "for c in sentimentClasses:\n",
        "  classRevCount = len(ReviewsByClass[c]) # compute # of reviews in P & N \n",
        "  PriorProbabilityByClass[c] = math.log(classRevCount/totalRevCount) # probability is value, class is key\n",
        "print(PriorProbabilityByClass)"
      ]
    },
    {
      "cell_type": "markdown",
      "metadata": {
        "id": "fIGiFhrRI-2a"
      },
      "source": [
        "## Part 2: Create Methods to Calculate Posterior Probabilities\n",
        "\n",
        "\n"
      ]
    },
    {
      "cell_type": "markdown",
      "metadata": {
        "id": "OpqzaeuGTI3m"
      },
      "source": [
        "To write the classification code, you will need some **helper methods and variables** to help calculate the posterior probabilities. Build them by following the steps below. Each step depends on the last! \n",
        "\n",
        "*Note*: Additional information for each of the steps is above their code cells.\n",
        "Testing cells are provided after each step so you can check your progress.\n",
        "\n",
        "1. Write a method to `tokenize` a review\n",
        "2. Create the dictionary `BagOfWordsByClass`, which holds a **Bag of Words** dictionary for each sentiment class\n",
        "3. Write a method `computePosteriorProbs(word, c, reviewsByClass, bagOfWords)`"
      ]
    },
    {
      "cell_type": "markdown",
      "metadata": {
        "id": "WrH3mp7WsR29"
      },
      "source": [
        "### Task 1: Tokenize (preprocessing)\n",
        "Write a method to `tokenize` a review.*\n",
        "  - You should do **preprocessing** on the review (this means getting rid of anything from the text that won't be useful for the analysis)\n",
        "    - Make the text lowercase\n",
        "    - Strip the text of any invalid characters (like `\\`)\n",
        "  - Finally, split the review into a list of individual words, and **return** that list.\n",
        "    - You can do this by splitting by punctuation, spaces...\n",
        "\n",
        "**Hint**: the Python **lower(), strip(), replace(), split()** methods\n",
        "\n",
        "*Making this a method is useful later on, because you will need to tokenize a LOT of reviews.\n"
      ]
    },
    {
      "cell_type": "markdown",
      "metadata": {
        "id": "NdzoO-PTbGl_"
      },
      "source": [
        "*Example*: \n",
        "\n",
        "`result = tokenize(\"Yikes! That movie stunk a \\lot\\.\")`\n",
        "\n",
        "`result` should be something like `[\"yikes\", \"that\", \"movie\", \"stunk\", \"a\", \"lot\"]`\n"
      ]
    },
    {
      "cell_type": "code",
      "execution_count": 6,
      "metadata": {
        "id": "ETxVqKnyLj--"
      },
      "outputs": [],
      "source": [
        "# input: a review\n",
        "# RETURN: a list of preprocessed words\n",
        "def tokenize(review):\n",
        "    # Preprocessing (any order):\n",
        "    # - make the text lowercase\n",
        "    # - strip the text of any unneccessary characters\n",
        "    # - split the text into a list of words\n",
        "\n",
        "    review = review.lower() # lowercase it\n",
        "    review = review.split(\" \") # split by spaces\n",
        "    #print(review)\n",
        "    finalRev = []\n",
        "    for rev in review:\n",
        "       rev = rev.strip() # strip of chars at beginning and end\n",
        "       rev = rev.replace('\\\\', '') # get rid of weird chars\n",
        "       rev = rev.replace('<', '')\n",
        "       rev = rev.replace('>', '')\n",
        "       rev = rev.replace('.', '') # ...\n",
        "       finalRev.append(rev)\n",
        "\n",
        "    return finalRev"
      ]
    },
    {
      "cell_type": "code",
      "execution_count": 7,
      "metadata": {
        "colab": {
          "base_uri": "https://localhost:8080/"
        },
        "id": "h4QMwquWOeQ7",
        "outputId": "975ccbc0-22fd-4fe3-9c68-9c79da79c668"
      },
      "outputs": [
        {
          "name": "stdout",
          "output_type": "stream",
          "text": [
            "['with', 'all', 'this', 'stuff', 'going', 'down', 'at', 'the', 'moment', 'with', 'mj', \"i've\", 'started', 'listening', 'to', 'his', 'music,', 'watching', 'the', 'odd', 'documentary', 'here', 'and', 'there,', 'watched', 'the', 'wiz', 'and', 'watched', 'moonwalker', 'again', 'maybe', 'i', 'just', 'want', 'to', 'get', 'a', 'certain', 'insight', 'into', 'this', 'guy', 'who', 'i', 'thought', 'was', 'really', 'cool', 'in', 'the', 'eighties', 'just', 'to', 'maybe', 'make', 'up', 'my', 'mind', 'whether', 'he', 'is', 'guilty', 'or', 'innocent', 'moonwalker', 'is', 'part', 'biography,', 'part', 'feature', 'film', 'which', 'i', 'remember', 'going', 'to', 'see', 'at', 'the', 'cinema', 'when', 'it', 'was', 'originally', 'released', 'some', 'of', 'it', 'has', 'subtle', 'messages', 'about', \"mj's\", 'feeling', 'towards', 'the', 'press', 'and', 'also', 'the', 'obvious', 'message', 'of', 'drugs', 'are', 'bad', \"m'kaybr\", '/br', '/visually', 'impressive', 'but', 'of', 'course', 'this', 'is', 'all', 'about', 'michael', 'jackson', 'so', 'unless', 'you', 'remotely', 'like', 'mj', 'in', 'anyway', 'then', 'you', 'are', 'going', 'to', 'hate', 'this', 'and', 'find', 'it', 'boring', 'some', 'may', 'call', 'mj', 'an', 'egotist', 'for', 'consenting', 'to', 'the', 'making', 'of', 'this', 'movie', 'but', 'mj', 'and', 'most', 'of', 'his', 'fans', 'would', 'say', 'that', 'he', 'made', 'it', 'for', 'the', 'fans', 'which', 'if', 'true', 'is', 'really', 'nice', 'of', 'himbr', '/br', '/the', 'actual', 'feature', 'film', 'bit', 'when', 'it', 'finally', 'starts', 'is', 'only', 'on', 'for', '20', 'minutes', 'or', 'so', 'excluding', 'the', 'smooth', 'criminal', 'sequence', 'and', 'joe', 'pesci', 'is', 'convincing', 'as', 'a', 'psychopathic', 'all', 'powerful', 'drug', 'lord', 'why', 'he', 'wants', 'mj', 'dead', 'so', 'bad', 'is', 'beyond', 'me', 'because', 'mj', 'overheard', 'his', 'plans?', 'nah,', 'joe', \"pesci's\", 'character', 'ranted', 'that', 'he', 'wanted', 'people', 'to', 'know', 'it', 'is', 'he', 'who', 'is', 'supplying', 'drugs', 'etc', 'so', 'i', 'dunno,', 'maybe', 'he', 'just', 'hates', \"mj's\", 'musicbr', '/br', '/lots', 'of', 'cool', 'things', 'in', 'this', 'like', 'mj', 'turning', 'into', 'a', 'car', 'and', 'a', 'robot', 'and', 'the', 'whole', 'speed', 'demon', 'sequence', 'also,', 'the', 'director', 'must', 'have', 'had', 'the', 'patience', 'of', 'a', 'saint', 'when', 'it', 'came', 'to', 'filming', 'the', 'kiddy', 'bad', 'sequence', 'as', 'usually', 'directors', 'hate', 'working', 'with', 'one', 'kid', 'let', 'alone', 'a', 'whole', 'bunch', 'of', 'them', 'performing', 'a', 'complex', 'dance', 'scenebr', '/br', '/bottom', 'line,', 'this', 'movie', 'is', 'for', 'people', 'who', 'like', 'mj', 'on', 'one', 'level', 'or', 'another', '(which', 'i', 'think', 'is', 'most', 'people)', 'if', 'not,', 'then', 'stay', 'away', 'it', 'does', 'try', 'and', 'give', 'off', 'a', 'wholesome', 'message', 'and', 'ironically', \"mj's\", 'bestest', 'buddy', 'in', 'this', 'movie', 'is', 'a', 'girl!', 'michael', 'jackson', 'is', 'truly', 'one', 'of', 'the', 'most', 'talented', 'people', 'ever', 'to', 'grace', 'this', 'planet', 'but', 'is', 'he', 'guilty?', 'well,', 'with', 'all', 'the', 'attention', \"i've\", 'gave', 'this', 'subjecthmmm', 'well', 'i', \"don't\", 'know', 'because', 'people', 'can', 'be', 'different', 'behind', 'closed', 'doors,', 'i', 'know', 'this', 'for', 'a', 'fact', 'he', 'is', 'either', 'an', 'extremely', 'nice', 'but', 'stupid', 'guy', 'or', 'one', 'of', 'the', 'most', 'sickest', 'liars', 'i', 'hope', 'he', 'is', 'not', 'the', 'latter']\n",
            "['br', '/br', '/this', 'movie', 'is', 'full', 'of', 'references', 'like', 'mad', 'max', 'ii\",', '\"the', 'wild', 'one\"', 'and', 'many', 'others', 'the', 'ladybug´s', 'face', 'it´s', 'a', 'clear', 'reference', '(or', 'tribute)', 'to', 'peter', 'lorre', 'this', 'movie', 'is', 'a', 'masterpiece', 'we´ll', 'talk', 'much', 'more', 'about', 'in', 'the', 'future\"']\n"
          ]
        }
      ],
      "source": [
        "# testing cell (optional): tokenize a review using your method!\n",
        "# the output should be a list of plain words.\n",
        "# suggestions to tokenize:\n",
        "# - the first review in the data (reviews[0])\n",
        "# - the tenth review in the data (reviews[9])\n",
        "print(tokenize(reviews[0]))\n",
        "\n",
        "print(tokenize(reviews[9]))\n"
      ]
    },
    {
      "cell_type": "markdown",
      "metadata": {
        "id": "S4OVYHf0P3Ec"
      },
      "source": [
        "### Task 2: Create and store bag of words for each class\n",
        "Create the dictionary `BagOfWordsByClass`, which holds a **Bag of Words** dictionary **for each sentiment class**. \n",
        "\n",
        "\n",
        "Here, you will create **two** Bags of Words, one for 0 (negative class) and one for 1 (positive class) and store them both inside `BagOfWordsByClass`:\n",
        "- Keys: the two sentiment classes\n",
        "- Values: the two corresponding Bag of Words dictionaries\n",
        "\n"
      ]
    },
    {
      "cell_type": "markdown",
      "metadata": {
        "id": "-VSXGJxEfgok"
      },
      "source": [
        "**Bag Of Words** is a dictionary with\n",
        "- Keys: **unique** words in the text\n",
        "- Values: the word **count**; how many of those words seen in the text.\n",
        "  - Here, the \"text\" is a list of reviews\n",
        "\n",
        "\n",
        "*Example*: Given the list `[\"happy birthday\", \"i am happy\", \"who am i\"]`\n",
        "- Bag of Words: `{\"happy\": 2, \"birthday\": 1, \"i\": 2, \"am\": 2, \"who\": 1}`\n",
        "\n"
      ]
    },
    {
      "cell_type": "markdown",
      "metadata": {
        "id": "IfrkjGdPgk59"
      },
      "source": [
        "**Hint**: \n",
        "- For each class, go through the reviews, each review word by word (what method have we written to split reviews into words?). \n",
        "- For each word: if the word is already in your Bag Of Words dictionary for that class (as a key), increase the word count (the value of that key). \n",
        "- If the word is NOT in your dictionary already, you will have to **add it to the dictionary**.\n",
        "\n",
        "\n",
        "How do you check if a word is in your Bag Of Words?\n",
        "\n",
        "  - You can use the keyword `in` to check if a key exists in a dictionary:\n",
        "      - ex. `if \"funny\" in someArbitraryBagOfWords:`\n",
        "\n",
        "  - You can also use `set`s to store all the unique words you've seen so far in a class or overall. \n",
        "    - A `set` is basically a `list` of unique things that don't have an order. \n",
        "    - It's a lot quicker to check if something is in a `set` than if it is in a `list`. "
      ]
    },
    {
      "cell_type": "markdown",
      "metadata": {
        "id": "lw7l_yPDfm5K"
      },
      "source": [
        "A `set` we have declared for you is called `vocab`, to keep track of all the unique words you see in the dataset, regardless of class. If you see a unique word, add to `vocab`.\n",
        "* `vocab` --> set of **all unique words**\n",
        "  * This is useful later on.\n"
      ]
    },
    {
      "cell_type": "markdown",
      "metadata": {
        "id": "pnOIKBKHfkYe"
      },
      "source": [
        "Finally, we provide a **testing aide** for this part, `testBagOfWordsByClass`, which you can use to check your final `BagOfWordsByClass` dictionary against the original dataset. \n",
        "- Don't worry if your dictionary isn't 100% accurate; your `tokenize()` method may just look different from the tester's. This is just a sanity check."
      ]
    },
    {
      "cell_type": "code",
      "execution_count": 8,
      "metadata": {
        "id": "Hub7IQ7hLyu_"
      },
      "outputs": [],
      "source": [
        "# create two bag of words dictionaries, one for neg class, one for pos class\n",
        "# for each review in neg class, split it into words\n",
        "# and for each word, if it is new to neg bag of words, add() to neg bag of words, \n",
        "# if not, add to the count in neg bag of words.\n",
        "# same for pos.\n",
        "# note: also fill vocab: add any new word to vocab\n",
        "# finally, store both in BagOfWordsByClass, by class.\n",
        "\n",
        "BagOfWordsByClass = {}\n",
        "vocab = set()   # set of all unique words. add to it as you go along\n",
        "\n",
        "\n",
        "for c in sentimentClasses: # for each class\n",
        "  bagOfWords = {} # class-specific\n",
        "  \n",
        "  for review in ReviewsByClass[c]: # for each review in the class\n",
        "    wordList = tokenize(review) # list of tokenized words from review\n",
        "   \n",
        "    for word in wordList: # for each word\n",
        "\n",
        "      if word not in bagOfWords:\n",
        "        bagOfWords[word] = 1  # initialize count\n",
        "      else:\n",
        "        bagOfWords[word] += 1 # add to count\n",
        "\n",
        "      if word not in vocab: # setting up an overall vocab list for alter\n",
        "        vocab.add(word)\n",
        "  \n",
        "  if c == 0:\n",
        "    BagOfWordsByClass[0] = bagOfWords\n",
        "  else:\n",
        "    BagOfWordsByClass[1] = bagOfWords\n",
        "\n"
      ]
    },
    {
      "cell_type": "code",
      "execution_count": 9,
      "metadata": {
        "colab": {
          "base_uri": "https://localhost:8080/"
        },
        "id": "r2K1Bmi7VOAH",
        "outputId": "da06c2dd-f1e1-4441-c945-f8b0480f1a87"
      },
      "outputs": [
        {
          "name": "stdout",
          "output_type": "stream",
          "text": [
            "--- in original dataset ---\n",
            "40 occurrences of horribly in positive reviews\n",
            "163 occurrences of horribly in negative reviews\n",
            "--- in BagOfWordsByClass ---\n",
            "41 occurrences of horribly in positive reviews\n",
            "167 occurrences of horribly in negative reviews\n"
          ]
        }
      ],
      "source": [
        "# testing cell (optional): run this cell after completing BagOfWordsByClass.\n",
        "# to see how accurate your bag-of-words dictionary is.\n",
        "# this is working code - you don't have to write your own testing code here.\n",
        "# change the testWord and run the cell again!\n",
        "\n",
        "testWord = \"horribly\"\n",
        "tester.testBagOfWordsByClass(testWord, reviews, sentiments, BagOfWordsByClass)\n",
        "\n",
        "# !! don't worry if the numbers aren't exactly the same !!\n",
        "\n",
        "# IMPORTANT: remember that your bag-of-words uses TOKENIZED words - words that\n",
        "# have gone through whatever preprocessing you wrote in tokenize().\n",
        "# as the words in the original dataset are unprocessed, this may result in inconsistencies.\n",
        "\n",
        "# the code uses its OWN VERSION of tokenize() that lowercases and gets rid of symbols.\n",
        "# so, there still may be inconsistencies in word counts."
      ]
    },
    {
      "cell_type": "markdown",
      "metadata": {
        "id": "uSP1JFm4VANN"
      },
      "source": [
        "### Task 3: Calculate posterior probabilities\n",
        "3. Write a method `computePosteriorProbs(word, c, reviewsByClass, bagOfWords)`\n",
        "  - This calculates **posterior probability**: the probability of a given **word** being in a given **class**.\n",
        "    - Parameters include:\n",
        "      - `word`, a string, e.g. \"great\"\n",
        "      - `c`, a given class, e.g. 1\n",
        "      - `reviewsByClass`, the dictionary `ReviewsByClass`\n",
        "      - `bagOfWordsByClass`, the dictionary `BagOfWordsByClass`\n",
        "  - `computePosteriorProbs` should return a number, the probability value.\n",
        "\n",
        "**Note: Posterior Probabilty given word and class = log( `# of that word in the class` + 1 / `# of words in the class` + `# of unique words in total`)**\n",
        "\n",
        "\n",
        "**Note 2:** Sometimes, a word will be in one class but not the other. (Ex. \"fantastic\" might have been seen in the positive class, but not the negative class). \n",
        "- So, you must check whether the inputted `word` is in the Bag of Words for the inputted `class`.\n",
        "  - If it isn't, you will have to **add that word to the bag of words for that class with the initial count `0`**."
      ]
    },
    {
      "cell_type": "code",
      "execution_count": 17,
      "metadata": {
        "id": "uW5gazP3PRcr"
      },
      "outputs": [],
      "source": [
        "# helper vars for computePosteriorProbs\n",
        "# calculating these inside the function takes too long \n",
        "negWordCounts = BagOfWordsByClass[0].values()\n",
        "posWordCounts = BagOfWordsByClass[1].values()\n",
        "\n",
        "negWordSum = sum(negWordCounts)\n",
        "posWordSum = sum(posWordCounts)"
      ]
    },
    {
      "cell_type": "code",
      "execution_count": 20,
      "metadata": {
        "id": "haMWYH8dL3gF"
      },
      "outputs": [],
      "source": [
        "# write a method to calculate posterior probability\n",
        "# given a word and a class; the probability that the word will be in the class.\n",
        "# RETURN the probability value\n",
        "def computePosteriorProbs(word, c, reviewsByClass, bagOfWordsByClass):\n",
        "  # account for KeyError\n",
        "  if c == 0:\n",
        "    if word not in bagOfWordsByClass[0]:\n",
        "      bagOfWordsByClass[c][word] = 0\n",
        "  else:\n",
        "    if word not in bagOfWordsByClass[1]:\n",
        "      bagOfWordsByClass[c][word] = 0\n",
        "\n",
        "  num = bagOfWordsByClass[c][word] + 1\n",
        "\n",
        "  # get total number of words in class\n",
        "  if c == 0:\n",
        "    sumWords = negWordSum\n",
        "  else:\n",
        "    sumWords = posWordSum\n",
        "    \n",
        "  denom = sumWords + len(vocab)\n",
        "\n",
        "  return math.log(num/denom)\n",
        "\n"
      ]
    },
    {
      "cell_type": "code",
      "execution_count": null,
      "metadata": {
        "colab": {
          "base_uri": "https://localhost:8080/"
        },
        "id": "OalsloHAVNm4",
        "outputId": "f643587f-ae6e-40f9-af6f-c160e8afb744"
      },
      "outputs": [],
      "source": [
        "# testing cell (optional): test computePosteriorProbs()\n",
        "# you can refer to the simple dataset from the lecture as an example of what the\n",
        "# posterior probability should look like.\n"
      ]
    },
    {
      "cell_type": "markdown",
      "metadata": {
        "id": "CHZZi238VO9f"
      },
      "source": [
        "## Part 3: Final classification\n",
        "\n",
        "Finally, using the methods and variables you have at your disposal, **write the final classification code** and fill `classified_sentiments`! \n",
        "\n",
        "### Task:\n",
        "For each review in a **list of reviews** (`reviews_test`), classify each review as negative (0) or positive (1) using probabilities. The final result should be a **list of sentiments** (`classified_sentiments`), which has one sentiment value for each test review.\n",
        "- Ex. [0, 1, 1, 0, 1...] \n",
        "\n",
        "\n",
        "### Process:\n",
        "You must classify each review as positive or negative. How do you do this?\n",
        "\n",
        "For each review, you will calculate a **probability score** for each sentiment class; a score for positive sentiment and score for negative sentiment. Then, in the end, you can choose the sentiment with the higher score to be the prediction for that review.\n",
        "\n",
        "Calculating a probability score for a class involves **cumulatively adding posterior probabilities to the prior probability**.\n",
        "\n",
        "- So, for each review, **for each sentiment class**, get the prior probability. - Then, for each word in the review, calculate the posterior probability and add it to the prior probability to get the final probability score.\n",
        "  - **Note**: if the word *hasn't been seen before in the training dataset* (i.e. it is not in the vocab), we don't have any useful information about it, so it's best to skip it entirely.\n",
        "\n",
        "\n",
        "Then, you should choose the sentiment class (0 or 1) with the higher final score for the review. \n",
        "- You can use the Python `max(..., key=...)` function for this.\n",
        "\n",
        "\n",
        "Finally, add that sentiment value to `classified_sentiments`. This is already initialized, so you just need to fill it. You should not write this process as a method."
      ]
    },
    {
      "cell_type": "code",
      "execution_count": 21,
      "metadata": {
        "id": "vGWA---y-Jsh"
      },
      "outputs": [],
      "source": [
        "classified_sentiments = [] # the final list you should store your classified sentiments in\n",
        "\n",
        "# from a list of test reviews  (reviews_test)\n",
        "# for each review, calculate the probability scores for each sentiment class\n",
        "# and choose the sentiment whose score is higher.\n",
        "# calculate these scores by adding posterior probs (word by word) to the prior prob.\n",
        "# add the final classification to classified_sentiments\n",
        "\n",
        "for review in reviews_test: # for each review**** \n",
        "\n",
        "    classProbScores = {} # to use to determine end result\n",
        "\n",
        "    for c in sentimentClasses:\n",
        "      classProbScores[c] = PriorProbabilityByClass[c] # set up with prior probability**\n",
        "      \n",
        "    # split review into words\n",
        "    words = tokenize(review)\n",
        "    \n",
        "    for word in words: # for each word\n",
        "      \n",
        "      if word in vocab: # skip if not\n",
        "\n",
        "        for c in sentimentClasses: # for each class\n",
        "          classProbScores[c] += computePosteriorProbs(word, c, ReviewsByClass, BagOfWordsByClass) # add probs for word to score\n",
        "\n",
        "    # decide which is higher, which class the review belongs in\n",
        "\n",
        "    #classified_sentiments.append(max(classProbScores, key=classProbScores.get))\n",
        "    if classProbScores.get(0) > classProbScores.get(1):\n",
        "      classified_sentiments.append(0)\n",
        "    else:\n",
        "      classified_sentiments.append(1)"
      ]
    },
    {
      "cell_type": "markdown",
      "metadata": {
        "id": "vJVnscDToNJL"
      },
      "source": [
        "## Evaluate your model (Do not edit)\n",
        "\n",
        "Now that you've built your classifier and created a final list of sentiments, run the following code cells to evaluate your model for accuracy and other metrics. The following code uses methods from a package called `sklearn`."
      ]
    },
    {
      "cell_type": "code",
      "execution_count": 22,
      "metadata": {
        "colab": {
          "base_uri": "https://localhost:8080/"
        },
        "id": "J8RrHkNJM_Kx",
        "outputId": "658125a9-917e-40dd-9cf9-69a5300bdbab"
      },
      "outputs": [
        {
          "data": {
            "text/plain": [
              "0.9383030303030303"
            ]
          },
          "execution_count": 22,
          "metadata": {},
          "output_type": "execute_result"
        }
      ],
      "source": [
        "# calculate the accuracy of your classification\n",
        "# (sentiments_test contains the correct sentiments)\n",
        "accuracy_score(sentiments_test, classified_sentiments)"
      ]
    },
    {
      "cell_type": "code",
      "execution_count": 23,
      "metadata": {
        "colab": {
          "base_uri": "https://localhost:8080/",
          "height": 53
        },
        "id": "xGd0y932Mu_O",
        "outputId": "331be450-d525-4f8f-b001-032391a2faf2"
      },
      "outputs": [
        {
          "data": {
            "application/vnd.google.colaboratory.intrinsic+json": {
              "type": "string"
            },
            "text/plain": [
              "'              precision    recall  f1-score   support\\n\\n           0       0.92      0.96      0.94     12374\\n           1       0.96      0.91      0.94     12376\\n\\n    accuracy                           0.94     24750\\n   macro avg       0.94      0.94      0.94     24750\\nweighted avg       0.94      0.94      0.94     24750\\n'"
            ]
          },
          "execution_count": 23,
          "metadata": {},
          "output_type": "execute_result"
        }
      ],
      "source": [
        "# calculate performance of the model on several metrics\n",
        "classification_report(sentiments_test, classified_sentiments)"
      ]
    },
    {
      "cell_type": "code",
      "execution_count": 24,
      "metadata": {
        "id": "Yvkn6uy16w3m"
      },
      "outputs": [],
      "source": [
        "# draw the confusion matrix using matplotlib\n",
        "def drawConfusionMatrix():\n",
        "\n",
        "  # get the data for the confusion matrix\n",
        "  cnf_data = confusion_matrix(sentiments_test, classified_sentiments)\n",
        "\n",
        "  # set up the figure \n",
        "  figure = plt.figure()\n",
        "  axes = figure.add_subplot(111)\n",
        "  \n",
        "  # using the matshow() function\n",
        "  caxes = axes.matshow(cnf_data, cmap='Blues') # cmap -> colors\n",
        "\n",
        "  # title\n",
        "  plt.title('Confusion Matrix For Your Model')\n",
        "\n",
        "  # axis titles\n",
        "  axes.set_xlabel(\"Predicted sentiment\")\n",
        "  axes.set_ylabel(\"Actual sentiment\")\n",
        "\n",
        "  # axis ticks and labels\n",
        "  axes.tick_params(axis=\"x\", bottom=True, top=False, labelbottom=True, labeltop=False)\n",
        "  axes.tick_params(axis=\"y\", left=True, labelleft=True, rotation=90)\n",
        "\n",
        "  labels = ['positive', 'negative']\n",
        "  axes.set_xticklabels(['']+labels)\n",
        "  axes.set_yticklabels(['']+labels)\n",
        "\n",
        "  # inner labels\n",
        "  for (i, j), z in np.ndenumerate(cnf_data):\n",
        "      axes.text(j, i, '{}'.format(z), ha='center', va='center', fontsize=15,\n",
        "                bbox=dict(boxstyle='round', facecolor='white'))\n",
        "\n",
        "  plt.grid(False) # get rid of extra gridlines\n",
        "  plt.show()"
      ]
    },
    {
      "cell_type": "code",
      "execution_count": 25,
      "metadata": {
        "colab": {
          "base_uri": "https://localhost:8080/",
          "height": 306
        },
        "id": "CR6In4MaGzre",
        "outputId": "0368475c-eb48-453a-d499-f04051a22599"
      },
      "outputs": [
        {
          "data": {
            "image/png": "[encoded data removed]",
            "text/plain": [
              "<Figure size 432x288 with 1 Axes>"
            ]
          },
          "metadata": {
            "needs_background": "light"
          },
          "output_type": "display_data"
        }
      ],
      "source": [
        "drawConfusionMatrix()"
      ]
    },
    {
      "cell_type": "markdown",
      "metadata": {
        "id": "9ocgFNBUaIyj"
      },
      "source": [
        "## Reflection\n",
        "\n",
        "Try running your classification code on your own made-up reviews! Can you make up a review that the model fails on? (The review is positive but it returns negative, vice versa). \n",
        "\n",
        "You can also try running the method on single words to see what words are considered indicative of positive or negative sentiment.\n",
        "\n",
        "Can you think of any bigger datasets that this model would fail on?\n",
        "\n"
      ]
    },
    {
      "cell_type": "markdown",
      "metadata": {
        "id": "Gk0oAc6bbICS"
      },
      "source": [
        "## Additional Activity: Improving Your Model By Improving Preprocessing\n",
        "\n",
        "Look back at the `tokenizing` step of this lab (Part 2). \n",
        "\n",
        "Your `tokenize` method includes **preprocessing** steps like lowercasing the text, getting rid of extraneous symbols, and splitting the review into words. This is all to reduce the raw review text into useful information -- important words.\n",
        "\n",
        "\n",
        "There are really numerous ways to do preprocessing. See if you can improve your `tokenize` method further by employing different methods. \n",
        "\n",
        "- One idea is to try removing words that aren't important for analyzing sentiment. \n",
        "  - For example, `\"I\"` and `\"or\"` aren't really positive or negative (or they shouldn't be!), so they shouldn't have much effect on the final computed sentiment of a review.\n",
        "\n",
        "- **Hint**: The `nltk` python package is specialized for text analysis and it may have some useful methods for this task.\n",
        "\n"
      ]
    }
  ],
  "metadata": {
    "colab": {
      "collapsed_sections": [
        "Xzn9mL_b8RfA"
      ],
      "name": "(Solution) Movie Review Sentiment Analysis.ipynb",
      "provenance": []
    },
    "kernelspec": {
      "display_name": "Python 3",
      "name": "python3"
    },
    "language_info": {
      "name": "python"
    }
  },
  "nbformat": 4,
  "nbformat_minor": 0
}
